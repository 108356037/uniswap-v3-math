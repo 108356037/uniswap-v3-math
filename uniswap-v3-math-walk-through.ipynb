{
 "cells": [
  {
   "cell_type": "code",
   "execution_count": 29,
   "id": "b20a9084-3c8a-4c66-bcb3-1317e6c573cc",
   "metadata": {},
   "outputs": [],
   "source": [
    "import math\n",
    "import uni_mathfunc as unim\n",
    "\n",
    "class bcolors:\n",
    "    HEADER = '\\033[95m'\n",
    "    OKBLUE = '\\033[94m'\n",
    "    OKCYAN = '\\033[96m'\n",
    "    OKGREEN = '\\033[92m'\n",
    "    WARNING = '\\033[93m'\n",
    "    FAIL = '\\033[91m'\n",
    "    ENDC = '\\033[0m'\n",
    "    BOLD = '\\033[1m'\n",
    "    UNDERLINE = '\\033[4m'\n"
   ]
  },
  {
   "attachments": {},
   "cell_type": "markdown",
   "id": "1b291003",
   "metadata": {},
   "source": [
    "<img src=\"img/pricetick1.png\" width=\"400\" height=\"340\"> | <img src=\"img/pricetick2.png\" width=\"400\" height=\"340\">\n"
   ]
  },
  {
   "cell_type": "code",
   "execution_count": 2,
   "id": "8bab4944",
   "metadata": {},
   "outputs": [
    {
     "name": "stdout",
     "output_type": "stream",
     "text": [
      "current price: 70.71067811865476\n",
      "lower price: 67.4166151627327\n",
      "upper price: 74.16198487095663\n"
     ]
    }
   ],
   "source": [
    "print(f\"current price: {unim.price(1, 5000)}\")\n",
    "print(f\"lower price: {unim.price(1, 4545)}\")\n",
    "print(f\"upper price: {unim.price(1, 5500)}\")"
   ]
  },
  {
   "cell_type": "code",
   "execution_count": 3,
   "id": "51a3090d-23ec-468b-b02a-3717d2e965bd",
   "metadata": {},
   "outputs": [
    {
     "name": "stdout",
     "output_type": "stream",
     "text": [
      "current tick: 85176\n",
      "lower tick: 84222\n",
      "upper tick: 86129\n"
     ]
    }
   ],
   "source": [
    "print(f\"current tick: {unim.price_to_tick(unim.price(1,5000))}\")\n",
    "print(f\"lower tick: {unim.price_to_tick(unim.price(1,4545))}\")\n",
    "print(f\"upper tick: {unim.price_to_tick(unim.price(1,5500))}\")"
   ]
  },
  {
   "cell_type": "code",
   "execution_count": 4,
   "id": "5eee5b08-6102-4515-81c1-ee721425f150",
   "metadata": {},
   "outputs": [
    {
     "name": "stdout",
     "output_type": "stream",
     "text": [
      "price USDC/ETH::5000/1 stored on smart contract: 5.602277097478614e+30\n",
      "price USDC/ETH::4545/1 stored on smart contract: 5.341294542274603e+30\n",
      "price USDC/ETH::5500/1 stored on smart contract: 5.875717789736565e+30\n"
     ]
    }
   ],
   "source": [
    "print(\n",
    "    f\"price USDC/ETH::5000/1 stored on smart contract: {unim.price_on_contract(unim.price(1, 5000))}\"\n",
    ")\n",
    "print(\n",
    "    f\"price USDC/ETH::4545/1 stored on smart contract: {unim.price_on_contract(unim.price(1, 4545))}\"\n",
    ")\n",
    "print(\n",
    "    f\"price USDC/ETH::5500/1 stored on smart contract: {unim.price_on_contract(unim.price(1, 5500))}\"\n",
    ")"
   ]
  },
  {
   "attachments": {},
   "cell_type": "markdown",
   "id": "5ce0787e-cd65-411b-9a58-6a30e5f39cfc",
   "metadata": {},
   "source": [
    "概念：<span style=\"color:cyan\">藍色線段</span> 注入流動性，C 點會往上推，代表 <span style=\"color:cyan\">∆Y</span> 增加，所以 <span style=\"color:cyan\">Y 幣</span> 增加流動性\n",
    "\n",
    "概念：<span style=\"color:#8FBC8F\">綠色線段</span> 注入流動性，C 點會往下推，代表 <span style=\"color:#8FBC8F\">∆X</span> 增加，所以 <span style=\"color:#8FBC8F\">X 幣</span> 增加流動性\n"
   ]
  },
  {
   "attachments": {},
   "cell_type": "markdown",
   "id": "bb080ecd-2e39-4816-bf86-fdf298932d9b",
   "metadata": {},
   "source": [
    "<img src=\"img/liquidity.png\" width=\"400\" height=\"340\"> | <img src=\"img/liquidity2.png\" width=\"400\" height=\"340\">\n"
   ]
  },
  {
   "attachments": {},
   "cell_type": "markdown",
   "id": "c7235ce3-7ec3-4696-aa82-ae215925b438",
   "metadata": {},
   "source": [
    "## 個人解讀：\n",
    "\n",
    "a 點 --> X 幣的最低價 (Y 幣最高價) ||| b 點 --> X 幣的最高價（Y 幣最低價）\n",
    "\n",
    "current price 往右推 --> 池子只需提供 Y 幣 ||| current price 往左推 --> 池子只需提供 X 幣\n",
    "\n",
    "當提供流動性時，我們希望價格穩定在 current price，所以要計算在藍綠兩個線段的流動性，並選擇較小當作 target liquidity\n",
    "\n",
    "再根據 target liquidity 去計算要兩個線段各要注入多少 token (單一線段注入流動性只需一種 token)"
   ]
  },
  {
   "attachments": {},
   "cell_type": "markdown",
   "id": "4d7329ee-f115-4c47-b240-de6635da1e89",
   "metadata": {},
   "source": [
    "<img src=\"img/calliquid1.png\" width=\"400\" height=\"350\"> | <img src=\"img/calliquid3.png\" width=\"400\" height=\"350\">\n"
   ]
  },
  {
   "cell_type": "code",
   "execution_count": 5,
   "id": "cbe90c31-aea8-4405-9919-fac600e5fc62",
   "metadata": {},
   "outputs": [],
   "source": [
    "ether = 10**18"
   ]
  },
  {
   "cell_type": "code",
   "execution_count": 6,
   "id": "e0d02937-be94-4b5f-9953-21afe572d41c",
   "metadata": {},
   "outputs": [
    {
     "data": {
      "text/plain": [
       "1519437308014769733632"
      ]
     },
     "execution_count": 6,
     "metadata": {},
     "output_type": "execute_result"
    }
   ],
   "source": [
    "liq_x = unim.calc_liq_x(1 * ether, unim.price(1, 5500), unim.price(1,5000))\n",
    "liq_x"
   ]
  },
  {
   "cell_type": "code",
   "execution_count": 7,
   "id": "ebed82a8-8a58-4c80-a1f5-881ae8a57911",
   "metadata": {},
   "outputs": [
    {
     "data": {
      "text/plain": [
       "1517882343751509868544"
      ]
     },
     "execution_count": 7,
     "metadata": {},
     "output_type": "execute_result"
    }
   ],
   "source": [
    "liq_y = unim.calc_liq_y(5000 * ether, unim.price(1, 4545), unim.price(1,5000))\n",
    "liq_y"
   ]
  },
  {
   "cell_type": "code",
   "execution_count": 8,
   "id": "645fec82-1144-4a7e-9b82-69fab9c6d5d5",
   "metadata": {},
   "outputs": [
    {
     "data": {
      "text/plain": [
       "1517882343751509868544"
      ]
     },
     "execution_count": 8,
     "metadata": {},
     "output_type": "execute_result"
    }
   ],
   "source": [
    "# in fact we use the minimum liquidity when adding liuquidity to pool\n",
    "min(liq_y, liq_x)"
   ]
  },
  {
   "attachments": {},
   "cell_type": "markdown",
   "id": "0684278b-ec15-4be7-aa01-9990ec4eb89a",
   "metadata": {},
   "source": [
    "<img src=\"img/liquidity2tokenAmount.png\" width=\"400\" height=\"350\">"
   ]
  },
  {
   "cell_type": "code",
   "execution_count": 9,
   "id": "b730eedb-1c7b-4068-b9eb-20da1e7fc43b",
   "metadata": {},
   "outputs": [
    {
     "data": {
      "text/plain": [
       "1517882343751509868544"
      ]
     },
     "execution_count": 9,
     "metadata": {},
     "output_type": "execute_result"
    }
   ],
   "source": [
    "target_liquidity = min(liq_y, liq_x)\n",
    "target_liquidity"
   ]
  },
  {
   "cell_type": "code",
   "execution_count": 12,
   "id": "7effa0b3-f728-42d7-9b43-4df7bfd1f8be",
   "metadata": {},
   "outputs": [
    {
     "data": {
      "text/plain": [
       "998976618347425408"
      ]
     },
     "execution_count": 12,
     "metadata": {},
     "output_type": "execute_result"
    }
   ],
   "source": [
    "# 理解：在給定的 liquidity 下，若要把價格從 5500 推到 5000, 所需要 token X 數量\n",
    "# 把價格從與 Y 軸交集的點推到曲線上，增加了 ∆X\n",
    "ETH_in_amount = unim.calc_deposit_token_x(target_liquidity, unim.price(1, 5000), unim.price(1, 5500))\n",
    "ETH_in_amount"
   ]
  },
  {
   "cell_type": "code",
   "execution_count": 13,
   "id": "7a4ba06e-51d4-4009-a261-5084041285a1",
   "metadata": {},
   "outputs": [
    {
     "data": {
      "text/plain": [
       "5000000000000000000000"
      ]
     },
     "execution_count": 13,
     "metadata": {},
     "output_type": "execute_result"
    }
   ],
   "source": [
    "# 理解：在給定的 liquidity 下，若要把價格從 4545 推到 5000, 所需要 token Y 數量\n",
    "# 把價格從與 X 軸交集的點推到曲線上，增加了 ∆Y\n",
    "USDC_in_amount = unim.calc_deposit_token_y(target_liquidity, unim.price(1, 5000), unim.price(1, 4545))\n",
    "USDC_in_amount"
   ]
  },
  {
   "attachments": {},
   "cell_type": "markdown",
   "id": "fb727311-483e-402d-b8ce-e73883df4ac2",
   "metadata": {},
   "source": [
    "## Swapping\n"
   ]
  },
  {
   "cell_type": "code",
   "execution_count": 15,
   "id": "2d74a697-47b7-42fe-bc69-73cf56e35805",
   "metadata": {},
   "outputs": [],
   "source": [
    "swap_in_USDC = 42 * ether"
   ]
  },
  {
   "cell_type": "code",
   "execution_count": 39,
   "id": "c1c7461e",
   "metadata": {},
   "outputs": [
    {
     "name": "stdout",
     "output_type": "stream",
     "text": [
      "∆USDC_PRICE: 0.02767012882974529\n",
      "NEW_USDC_PRICE: 70.7383482474845\n",
      "NEW_USDC_PRICE_CORRSPONDING_TICK: 85184\n",
      "NEW_USDC_PRICE_X96: 5604469350942327493700597317632\n",
      "USDC_in_amount: 41.99999999999241 ether\n",
      "ETH_out_amount: 0.008396714242160928 ether\n"
     ]
    }
   ],
   "source": [
    "# delta_price * liquidity = delta_token_y\n",
    "delta_p_USDC = swap_in_USDC / target_liquidity\n",
    "new_p_USDC = (unim.price(1, 5000) + delta_p_USDC)\n",
    "new_tick = unim.price_to_tick(new_p_USDC)\n",
    "new_p_USDC_X96 = int(unim.price_on_contract(new_p_USDC))\n",
    "\n",
    "print(f\"∆USDC_PRICE: {delta_p_USDC}\")\n",
    "print(f\"NEW_USDC_PRICE: {new_p_USDC}\")\n",
    "print(f\"NEW_USDC_PRICE_CORRSPONDING_TICK: {new_tick}\")\n",
    "print(f\"NEW_USDC_PRICE_X96: {new_p_USDC_X96}\")\n",
    "\n",
    "# 在此例中，當前價格 5000 的 liquidty 就是我們前面算出來的 target_liquidity\n",
    "# 若要把當前價格 5000 推到 new_p_USDC 的價格，所需的 token 量\n",
    "# 要造成此例價格變動有兩種方式(?：\n",
    "# 1. 丟 USDC 進池子, 換出 ETH \n",
    "# // 2. 從池子取出 ETH\n",
    "USDC_in_amount = unim.calc_deposit_token_y(target_liquidity, unim.price(1,5000), new_p_USDC)\n",
    "print(f\"USDC_in_amount: {USDC_in_amount/ether} ether\")\n",
    "ETH_out_amount = unim.calc_deposit_token_x(target_liquidity, unim.price(1,5000), new_p_USDC) \n",
    "print(f\"ETH_out_amount: {ETH_out_amount/ether} ether\")"
   ]
  },
  {
   "attachments": {},
   "cell_type": "markdown",
   "id": "5dca1ac0",
   "metadata": {},
   "source": [
    "<img src=\"img/verify_eth_out_amount.png\">"
   ]
  },
  {
   "cell_type": "code",
   "execution_count": 59,
   "id": "932c1d06",
   "metadata": {},
   "outputs": [
    {
     "name": "stdout",
     "output_type": "stream",
     "text": [
      "ETH_out_amount_verfiy: -0.008396714242162704 ether\n"
     ]
    }
   ],
   "source": [
    "# 透過上面的公式驗算 eth out amount\n",
    "ETH_out_amount_verfiy = (1/new_p_USDC - 1/unim.price(1,5000)) * target_liquidity \n",
    "print(f\"ETH_out_amount_verfiy: {ETH_out_amount_verfiy/ether} ether\")"
   ]
  },
  {
   "cell_type": "code",
   "execution_count": null,
   "id": "1fda36a2",
   "metadata": {},
   "outputs": [],
   "source": []
  }
 ],
 "metadata": {
  "kernelspec": {
   "display_name": "Python 3",
   "language": "python",
   "name": "python3"
  },
  "language_info": {
   "codemirror_mode": {
    "name": "ipython",
    "version": 3
   },
   "file_extension": ".py",
   "mimetype": "text/x-python",
   "name": "python",
   "nbconvert_exporter": "python",
   "pygments_lexer": "ipython3",
   "version": "3.11.1 (main, Dec 23 2022, 09:25:23) [Clang 14.0.0 (clang-1400.0.29.202)]"
  },
  "vscode": {
   "interpreter": {
    "hash": "5c7b89af1651d0b8571dde13640ecdccf7d5a6204171d6ab33e7c296e100e08a"
   }
  }
 },
 "nbformat": 4,
 "nbformat_minor": 5
}
