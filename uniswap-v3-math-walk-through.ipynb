{
 "cells": [
  {
   "cell_type": "code",
   "execution_count": 1,
   "id": "b20a9084-3c8a-4c66-bcb3-1317e6c573cc",
   "metadata": {},
   "outputs": [],
   "source": [
    "import math\n",
    "import uni_mathfunc as unim"
   ]
  },
  {
   "attachments": {},
   "cell_type": "markdown",
   "id": "1b291003",
   "metadata": {},
   "source": [
    "<img src=\"img/pricetick1.png\" width=\"400\" height=\"340\"> | <img src=\"img/pricetick2.png\" width=\"400\" height=\"340\">\n"
   ]
  },
  {
   "cell_type": "code",
   "execution_count": 2,
   "id": "8bab4944",
   "metadata": {},
   "outputs": [
    {
     "name": "stdout",
     "output_type": "stream",
     "text": [
      "current price: 70.71067811865476\n",
      "lower price: 67.4166151627327\n",
      "upper price: 74.16198487095663\n"
     ]
    }
   ],
   "source": [
    "print(f\"current price: {unim.price(1, 5000)}\")\n",
    "print(f\"lower price: {unim.price(1, 4545)}\")\n",
    "print(f\"upper price: {unim.price(1, 5500)}\")"
   ]
  },
  {
   "cell_type": "code",
   "execution_count": 3,
   "id": "51a3090d-23ec-468b-b02a-3717d2e965bd",
   "metadata": {},
   "outputs": [
    {
     "name": "stdout",
     "output_type": "stream",
     "text": [
      "current tick: 85176\n",
      "lower tick: 84222\n",
      "upper tick: 86129\n"
     ]
    }
   ],
   "source": [
    "print(f\"current tick: {unim.price_to_tick(unim.price(1,5000))}\")\n",
    "print(f\"lower tick: {unim.price_to_tick(unim.price(1,4545))}\")\n",
    "print(f\"upper tick: {unim.price_to_tick(unim.price(1,5500))}\")"
   ]
  },
  {
   "cell_type": "code",
   "execution_count": 4,
   "id": "5eee5b08-6102-4515-81c1-ee721425f150",
   "metadata": {},
   "outputs": [
    {
     "name": "stdout",
     "output_type": "stream",
     "text": [
      "price USDC/ETH::5000/1 stored on smart contract: 5.602277097478614e+30\n",
      "price USDC/ETH::4545/1 stored on smart contract: 5.341294542274603e+30\n",
      "price USDC/ETH::5500/1 stored on smart contract: 5.875717789736565e+30\n"
     ]
    }
   ],
   "source": [
    "print(\n",
    "    f\"price USDC/ETH::5000/1 stored on smart contract: {unim.price_on_contract(unim.price(1, 5000))}\"\n",
    ")\n",
    "print(\n",
    "    f\"price USDC/ETH::4545/1 stored on smart contract: {unim.price_on_contract(unim.price(1, 4545))}\"\n",
    ")\n",
    "print(\n",
    "    f\"price USDC/ETH::5500/1 stored on smart contract: {unim.price_on_contract(unim.price(1, 5500))}\"\n",
    ")"
   ]
  },
  {
   "attachments": {},
   "cell_type": "markdown",
   "id": "5ce0787e-cd65-411b-9a58-6a30e5f39cfc",
   "metadata": {},
   "source": [
    "概念：<span style=\"color:cyan\">藍色線段</span> 注入流動性，C 點會往上推，代表 <span style=\"color:cyan\">∆Y</span> 增加，所以 <span style=\"color:cyan\">Y 幣</span> 增加流動性\n",
    "\n",
    "概念：<span style=\"color:#8FBC8F\">綠色線段</span> 注入流動性，C 點會往下推，代表 <span style=\"color:#8FBC8F\">∆X</span> 增加，所以 <span style=\"color:#8FBC8F\">X 幣</span> 增加流動性\n"
   ]
  },
  {
   "attachments": {},
   "cell_type": "markdown",
   "id": "bb080ecd-2e39-4816-bf86-fdf298932d9b",
   "metadata": {},
   "source": [
    "<img src=\"img/liquidity.png\" width=\"400\" height=\"340\"> | <img src=\"img/liquidity2.png\" width=\"400\" height=\"340\">\n"
   ]
  },
  {
   "attachments": {},
   "cell_type": "markdown",
   "id": "c7235ce3-7ec3-4696-aa82-ae215925b438",
   "metadata": {},
   "source": [
    "## 個人解讀：\n",
    "\n",
    "a 點 --> X 幣的最低價 (Y 幣最高價) ||| b 點 --> X 幣的最高價（Y 幣最低價）\n",
    "\n",
    "在藍色線段上交易 --> 池子只需提供 Y 幣 ||| 在綠色線段交易 --> 池子只需提供 X 幣\n",
    "\n",
    "當提供流動性時，我們希望價格穩定在 current price，所以要計算在藍綠兩個線段的流動性，並選擇較小的加入池子\n"
   ]
  },
  {
   "attachments": {},
   "cell_type": "markdown",
   "id": "4d7329ee-f115-4c47-b240-de6635da1e89",
   "metadata": {},
   "source": [
    "<img src=\"img/calliquid1.png\" width=\"400\" height=\"350\"> | <img src=\"img/calliquid3.png\" width=\"400\" height=\"350\">\n"
   ]
  },
  {
   "cell_type": "code",
   "execution_count": 5,
   "id": "cbe90c31-aea8-4405-9919-fac600e5fc62",
   "metadata": {},
   "outputs": [],
   "source": [
    "ether = 10**18"
   ]
  },
  {
   "cell_type": "code",
   "execution_count": 6,
   "id": "e0d02937-be94-4b5f-9953-21afe572d41c",
   "metadata": {},
   "outputs": [
    {
     "data": {
      "text/plain": [
       "1519437308014769733632"
      ]
     },
     "execution_count": 6,
     "metadata": {},
     "output_type": "execute_result"
    }
   ],
   "source": [
    "liq_x = unim.calc_liq_x(1 * ether, unim.price(1, 5500), unim.price(1,5000))\n",
    "liq_x"
   ]
  },
  {
   "cell_type": "code",
   "execution_count": 7,
   "id": "ebed82a8-8a58-4c80-a1f5-881ae8a57911",
   "metadata": {},
   "outputs": [
    {
     "data": {
      "text/plain": [
       "1517882343751509868544"
      ]
     },
     "execution_count": 7,
     "metadata": {},
     "output_type": "execute_result"
    }
   ],
   "source": [
    "liq_y = unim.calc_liq_y(5000 * ether, unim.price(1, 4545), unim.price(1,5000))\n",
    "liq_y"
   ]
  },
  {
   "cell_type": "code",
   "execution_count": 8,
   "id": "645fec82-1144-4a7e-9b82-69fab9c6d5d5",
   "metadata": {},
   "outputs": [
    {
     "data": {
      "text/plain": [
       "1517882343751509868544"
      ]
     },
     "execution_count": 8,
     "metadata": {},
     "output_type": "execute_result"
    }
   ],
   "source": [
    "# in fact we use the minimum liquidity when adding liuquidity to pool\n",
    "min(liq_y, liq_x)"
   ]
  },
  {
   "attachments": {},
   "cell_type": "markdown",
   "id": "0684278b-ec15-4be7-aa01-9990ec4eb89a",
   "metadata": {},
   "source": [
    "<img src=\"img/liquidity2tokenAmount.png\" width=\"400\" height=\"350\">"
   ]
  },
  {
   "cell_type": "code",
   "execution_count": 9,
   "id": "b730eedb-1c7b-4068-b9eb-20da1e7fc43b",
   "metadata": {},
   "outputs": [
    {
     "data": {
      "text/plain": [
       "1517882343751509868544"
      ]
     },
     "execution_count": 9,
     "metadata": {},
     "output_type": "execute_result"
    }
   ],
   "source": [
    "target_liquidity = min(liq_y, liq_x)\n",
    "target_liquidity"
   ]
  },
  {
   "cell_type": "code",
   "execution_count": 26,
   "id": "7effa0b3-f728-42d7-9b43-4df7bfd1f8be",
   "metadata": {},
   "outputs": [
    {
     "data": {
      "text/plain": [
       "998976618347425408"
      ]
     },
     "execution_count": 26,
     "metadata": {},
     "output_type": "execute_result"
    }
   ],
   "source": [
    "ETH_in_amount = unim.contract_recalc_deposit_amount_x(target_liquidity, unim.price(1, 5000), unim.price(1, 5500))\n",
    "ETH_in_amount"
   ]
  },
  {
   "cell_type": "code",
   "execution_count": 27,
   "id": "7a4ba06e-51d4-4009-a261-5084041285a1",
   "metadata": {},
   "outputs": [
    {
     "data": {
      "text/plain": [
       "5000000000000000000000"
      ]
     },
     "execution_count": 27,
     "metadata": {},
     "output_type": "execute_result"
    }
   ],
   "source": [
    "USDC_in_amount = unim.contract_recalc_deposit_amount_y(target_liquidity, unim.price(1, 5000), unim.price(1, 4545))\n",
    "USDC_in_amount"
   ]
  },
  {
   "attachments": {},
   "cell_type": "markdown",
   "id": "fb727311-483e-402d-b8ce-e73883df4ac2",
   "metadata": {},
   "source": [
    "## Swapping\n"
   ]
  },
  {
   "cell_type": "code",
   "execution_count": 12,
   "id": "2d74a697-47b7-42fe-bc69-73cf56e35805",
   "metadata": {},
   "outputs": [],
   "source": [
    "swap_in_USDC = 42 * ether"
   ]
  },
  {
   "cell_type": "code",
   "execution_count": 13,
   "id": "c1c7461e",
   "metadata": {},
   "outputs": [
    {
     "data": {
      "text/plain": [
       "0.02767012882974529"
      ]
     },
     "execution_count": 13,
     "metadata": {},
     "output_type": "execute_result"
    }
   ],
   "source": [
    "delta_p_USDC = swap_in_USDC / target_liquidity\n",
    "delta_p_USDC"
   ]
  },
  {
   "cell_type": "code",
   "execution_count": 14,
   "id": "5232d5bf",
   "metadata": {},
   "outputs": [
    {
     "data": {
      "text/plain": [
       "70.7383482474845"
      ]
     },
     "execution_count": 14,
     "metadata": {},
     "output_type": "execute_result"
    }
   ],
   "source": [
    "new_p_USDC = (unim.price(1, 5000) + delta_p_USDC)\n",
    "new_p_USDC"
   ]
  },
  {
   "cell_type": "code",
   "execution_count": 20,
   "id": "aa502afe",
   "metadata": {},
   "outputs": [
    {
     "data": {
      "text/plain": [
       "85184"
      ]
     },
     "execution_count": 20,
     "metadata": {},
     "output_type": "execute_result"
    }
   ],
   "source": [
    "new_tick = unim.price_to_tick(new_p_USDC)\n",
    "new_tick"
   ]
  },
  {
   "cell_type": "code",
   "execution_count": 30,
   "id": "42848ff2",
   "metadata": {},
   "outputs": [
    {
     "data": {
      "text/plain": [
       "41.999999999993186"
      ]
     },
     "execution_count": 30,
     "metadata": {},
     "output_type": "execute_result"
    }
   ],
   "source": [
    "new_USDC_amount = unim.contract_recalc_deposit_amount_y(target_liquidity, unim.price(1,4545), new_p_USDC)\n",
    "(new_USDC_amount - USDC_in_amount) /ether"
   ]
  },
  {
   "cell_type": "code",
   "execution_count": 23,
   "id": "05bb4466",
   "metadata": {},
   "outputs": [
    {
     "data": {
      "text/plain": [
       "990579904105264384"
      ]
     },
     "execution_count": 23,
     "metadata": {},
     "output_type": "execute_result"
    }
   ],
   "source": [
    "new_ETH_amount = unim.contract_recalc_deposit_amount_x(target_liquidity, unim.price(1, 5500), new_p_USDC)\n",
    "new_ETH_amount"
   ]
  },
  {
   "cell_type": "code",
   "execution_count": 28,
   "id": "0c51e28a",
   "metadata": {},
   "outputs": [
    {
     "data": {
      "text/plain": [
       "-0.008396714242161023"
      ]
     },
     "execution_count": 28,
     "metadata": {},
     "output_type": "execute_result"
    }
   ],
   "source": [
    "(new_ETH_amount - ETH_in_amount) / ether"
   ]
  },
  {
   "cell_type": "code",
   "execution_count": null,
   "id": "357e424f",
   "metadata": {},
   "outputs": [],
   "source": []
  }
 ],
 "metadata": {
  "kernelspec": {
   "display_name": "Python 3",
   "language": "python",
   "name": "python3"
  },
  "language_info": {
   "codemirror_mode": {
    "name": "ipython",
    "version": 3
   },
   "file_extension": ".py",
   "mimetype": "text/x-python",
   "name": "python",
   "nbconvert_exporter": "python",
   "pygments_lexer": "ipython3",
   "version": "3.11.0"
  },
  "vscode": {
   "interpreter": {
    "hash": "5c7b89af1651d0b8571dde13640ecdccf7d5a6204171d6ab33e7c296e100e08a"
   }
  }
 },
 "nbformat": 4,
 "nbformat_minor": 5
}
