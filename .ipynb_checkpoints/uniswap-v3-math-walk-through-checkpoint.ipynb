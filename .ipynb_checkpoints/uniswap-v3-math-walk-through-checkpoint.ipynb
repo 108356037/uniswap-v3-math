{
 "cells": [
  {
   "cell_type": "code",
   "execution_count": 1,
   "id": "b20a9084-3c8a-4c66-bcb3-1317e6c573cc",
   "metadata": {},
   "outputs": [],
   "source": [
    "import math\n",
    "\n",
    "import uni_mathfunc as unim"
   ]
  },
  {
   "cell_type": "markdown",
   "id": "8aa23705-720d-4aa8-8ddf-1011a0793884",
   "metadata": {},
   "source": [
    "![alt](img/pricetick1.png) | ![alt](img/pricetick2.png)"
   ]
  },
  {
   "cell_type": "code",
   "execution_count": 2,
   "id": "51a3090d-23ec-468b-b02a-3717d2e965bd",
   "metadata": {},
   "outputs": [
    {
     "data": {
      "text/plain": [
       "(85176, 84222, 86129)"
      ]
     },
     "execution_count": 2,
     "metadata": {},
     "output_type": "execute_result"
    }
   ],
   "source": [
    "# supply : {ETH: 1, USDC: 5000, supply_range: 4545-5500}\n",
    "## below equals: math.floor(math.log(math.sqrt(p), 1.0001**0.5))\n",
    "unim.price_to_tick(5000), unim.price_to_tick(4545), unim.price_to_tick(5500)"
   ]
  },
  {
   "cell_type": "code",
   "execution_count": null,
   "id": "5eee5b08-6102-4515-81c1-ee721425f150",
   "metadata": {},
   "outputs": [],
   "source": [
    "print(\n",
    "    f\"price USDC/ETH::5000/1 stored on smart contract: {unim.price_no_sqrtp_to_uniswapX96(5000) }\"\n",
    ")\n",
    "print(\n",
    "    f\"price USDC/ETH::4545/1 stored on smart contract: {unim.price_no_sqrtp_to_uniswapX96(4545) }\"\n",
    ")\n",
    "print(\n",
    "    f\"price USDC/ETH::5500/1 stored on smart contract: {unim.price_no_sqrtp_to_uniswapX96(5500) }\"\n",
    ")"
   ]
  },
  {
   "cell_type": "code",
   "execution_count": null,
   "id": "a9cffa8b-69e5-4c15-ba02-4c69b5ff80ec",
   "metadata": {},
   "outputs": [],
   "source": []
  },
  {
   "cell_type": "markdown",
   "id": "5ce0787e-cd65-411b-9a58-6a30e5f39cfc",
   "metadata": {},
   "source": [
    "概念：<span style=\"color:cyan\">藍色線段</span> 注入流動性，C點會往上推，代表 <span style=\"color:cyan\">∆Y</span> 增加，所以 <span style=\"color:cyan\">Y幣</span> 增加流動性 \n",
    "\n",
    "概念：<span style=\"color:#8FBC8F\">綠色線段</span> 注入流動性，C點會往下推，代表 <span style=\"color:#8FBC8F\">∆X</span> 增加，所以 <span style=\"color:#8FBC8F\">X幣</span> 增加流動性 "
   ]
  },
  {
   "cell_type": "markdown",
   "id": "bb080ecd-2e39-4816-bf86-fdf298932d9b",
   "metadata": {},
   "source": [
    "![alt](img/liquidity.png) | ![alt](img/liquidity2.png)"
   ]
  },
  {
   "cell_type": "markdown",
   "id": "c7235ce3-7ec3-4696-aa82-ae215925b438",
   "metadata": {},
   "source": [
    "## 個人解讀：\n",
    "\n",
    "a 點 --> X幣的最低價 (Y幣最高價) ||| b 點 --> X幣的最高價（Y幣最低價）\n",
    "\n",
    "在藍色線段上交易 --> 池子只需提供Y幣 ||| 在綠色線段交易 --> 池子只需提供X幣\n",
    "\n",
    "當提供流動性時，我們希望價格穩定在 current price，所以要計算在藍綠兩個線段的流動性，並選擇較小的加入池子"
   ]
  },
  {
   "cell_type": "markdown",
   "id": "4d7329ee-f115-4c47-b240-de6635da1e89",
   "metadata": {},
   "source": [
    "![alt](img/calliquid1.png) | ![alt](img/calliquid3.png)"
   ]
  },
  {
   "cell_type": "code",
   "execution_count": null,
   "id": "cbe90c31-aea8-4405-9919-fac600e5fc62",
   "metadata": {},
   "outputs": [],
   "source": [
    "sqrt_low_a = math.sqrt(4545)\n",
    "sqrt_cur_c = math.sqrt(5000)\n",
    "sqrt_high_b = math.sqrt(5500)\n",
    "(sqrt_low_a, sqrt_cur_c, sqrt_high_b)\n",
    "\n",
    "ether = 10**18"
   ]
  },
  {
   "cell_type": "code",
   "execution_count": null,
   "id": "e0d02937-be94-4b5f-9953-21afe572d41c",
   "metadata": {},
   "outputs": [],
   "source": [
    "# unim.liquidity_x_X(ether, math.sqrt(5000), math.sqrt(5500))\n",
    "unim.liquidity_x(ether, 5000, 5500)"
   ]
  },
  {
   "cell_type": "code",
   "execution_count": null,
   "id": "ebed82a8-8a58-4c80-a1f5-881ae8a57911",
   "metadata": {},
   "outputs": [],
   "source": [
    "unim.liquidity_y(5000 * ether, 5000, 4545)"
   ]
  },
  {
   "cell_type": "code",
   "execution_count": null,
   "id": "645fec82-1144-4a7e-9b82-69fab9c6d5d5",
   "metadata": {},
   "outputs": [],
   "source": [
    "# in fact we use the minimum liquidity when adding liuquidity to pool\n",
    "min(unim.liquidity_x(ether, 5000, 5500), unim.liquidity_y(5000 * ether, 5000, 4545))"
   ]
  },
  {
   "cell_type": "markdown",
   "id": "0684278b-ec15-4be7-aa01-9990ec4eb89a",
   "metadata": {},
   "source": [
    "![alt](img/liquidity2tokenAmount.png)"
   ]
  },
  {
   "cell_type": "code",
   "execution_count": null,
   "id": "b730eedb-1c7b-4068-b9eb-20da1e7fc43b",
   "metadata": {},
   "outputs": [],
   "source": [
    "target_liquidity = min(\n",
    "    unim.liquidity_y(5000 * ether, 5000, 4545),\n",
    "    unim.liquidity_x(5000 * ether, 5000, 5500),\n",
    ")\n",
    "target_liquidity"
   ]
  },
  {
   "cell_type": "code",
   "execution_count": null,
   "id": "7effa0b3-f728-42d7-9b43-4df7bfd1f8be",
   "metadata": {},
   "outputs": [],
   "source": [
    "unim.amount_x_to_pool(target_liquidity, 5000, 5500) / ether"
   ]
  },
  {
   "cell_type": "code",
   "execution_count": null,
   "id": "7a4ba06e-51d4-4009-a261-5084041285a1",
   "metadata": {},
   "outputs": [],
   "source": [
    "unim.amount_y_to_pool(target_liquidity, 5000, 4545) / ether"
   ]
  },
  {
   "cell_type": "markdown",
   "id": "fb727311-483e-402d-b8ce-e73883df4ac2",
   "metadata": {},
   "source": [
    "## Swapping"
   ]
  },
  {
   "cell_type": "code",
   "execution_count": null,
   "id": "2d74a697-47b7-42fe-bc69-73cf56e35805",
   "metadata": {},
   "outputs": [],
   "source": [
    "target_USDC = 42 * ether"
   ]
  },
  {
   "cell_type": "code",
   "execution_count": null,
   "id": "631b3a52-d4e2-485e-a541-e65819790950",
   "metadata": {},
   "outputs": [],
   "source": [
    "delta_USDC_price = unim.price_with_sqrtp_to_uniswapX96(target_USDC / target_liquidity)\n",
    "delta_USDC_price"
   ]
  },
  {
   "cell_type": "code",
   "execution_count": null,
   "id": "ca7be51b-3c67-4828-a20f-de7ef319af91",
   "metadata": {},
   "outputs": [],
   "source": [
    "((unim.price_no_sqrtp_to_uniswapX96(5000) + delta_USDC_price) / 2**96) ** 2"
   ]
  },
  {
   "cell_type": "code",
   "execution_count": null,
   "id": "63ffa7d2-4a06-4f2a-a34a-98e9d78fe7b1",
   "metadata": {},
   "outputs": [],
   "source": [
    "unim.amount_y_to_pool(target_liquidity, 5003.913912782393, 4545) / ether"
   ]
  },
  {
   "cell_type": "code",
   "execution_count": null,
   "id": "87ad0184",
   "metadata": {},
   "outputs": [],
   "source": [
    "unim.amount_x_to_pool(target_liquidity, 5003.913912782393, 5500) ** 0.5"
   ]
  },
  {
   "cell_type": "code",
   "execution_count": null,
   "id": "c1c7461e",
   "metadata": {},
   "outputs": [],
   "source": []
  }
 ],
 "metadata": {
  "kernelspec": {
   "display_name": "Python 3 (ipykernel)",
   "language": "python",
   "name": "python3"
  },
  "language_info": {
   "codemirror_mode": {
    "name": "ipython",
    "version": 3
   },
   "file_extension": ".py",
   "mimetype": "text/x-python",
   "name": "python",
   "nbconvert_exporter": "python",
   "pygments_lexer": "ipython3",
   "version": "3.9.6"
  }
 },
 "nbformat": 4,
 "nbformat_minor": 5
}
